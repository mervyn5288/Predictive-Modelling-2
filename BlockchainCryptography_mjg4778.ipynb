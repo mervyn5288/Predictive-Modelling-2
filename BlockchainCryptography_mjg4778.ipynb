{
  "nbformat": 4,
  "nbformat_minor": 0,
  "metadata": {
    "colab": {
      "name": "BlockchainCryptography_mjg4778.ipynb",
      "provenance": [],
      "collapsed_sections": [],
      "authorship_tag": "ABX9TyOAGWYsOHHJs1cYn9Dmaoma",
      "include_colab_link": true
    },
    "kernelspec": {
      "name": "python3",
      "display_name": "Python 3"
    }
  },
  "cells": [
    {
      "cell_type": "markdown",
      "metadata": {
        "id": "view-in-github",
        "colab_type": "text"
      },
      "source": [
        "<a href=\"https://colab.research.google.com/github/mervyn5288/Predictive-Modelling-2/blob/master/BlockchainCryptography_mjg4778.ipynb\" target=\"_parent\"><img src=\"https://colab.research.google.com/assets/colab-badge.svg\" alt=\"Open In Colab\"/></a>"
      ]
    },
    {
      "cell_type": "code",
      "metadata": {
        "id": "biYcXX1C-6Zg"
      },
      "source": [
        "from sympy import mod_inverse\r\n",
        "import hashlib\r\n",
        "import os\r\n"
      ],
      "execution_count": null,
      "outputs": []
    },
    {
      "cell_type": "code",
      "metadata": {
        "colab": {
          "base_uri": "https://localhost:8080/"
        },
        "id": "D1SqX-Ek_s8c",
        "outputId": "449b8808-e2f2-4416-9ebf-7f5fa679065d"
      },
      "source": [
        "# PART 1\r\n",
        "\r\n",
        "#Generating public keys:\r\n",
        "\r\n",
        "p=112481050639317229656723018120659623829736571015511322021617837187076258724819\r\n",
        "q=89185111938335771293328323333111422985697062149139368049232365065924632677343\r\n",
        "e=65537\r\n",
        "\r\n",
        "n=p*q\r\n",
        "print(\"n= \", n)\r\n",
        "\r\n",
        "#Computing Private key\r\n",
        "d= mod_inverse(e,(p-1)*(q-1))\r\n",
        "print(\"d= \", d)\r\n",
        "\r\n",
        "\r\n"
      ],
      "execution_count": null,
      "outputs": [
        {
          "output_type": "stream",
          "text": [
            "n=  10031635092209121498674987861649022163771061565130441373555584537047455688991931937563110507506652959265182705476941444174840580049331773111276155053075917\n",
            "d=  6886694454027199678759881881737814611139109676622117091683160716943132564863007715345245794849719693156483947830169207322284232384798025277322134502462181\n"
          ],
          "name": "stdout"
        }
      ]
    },
    {
      "cell_type": "code",
      "metadata": {
        "id": "4zHK8777_-63",
        "colab": {
          "base_uri": "https://localhost:8080/"
        },
        "outputId": "e56d8f75-7d91-4713-dfb6-b064036b8889"
      },
      "source": [
        "#Part 2: Encrypting a Message\r\n",
        "\r\n",
        "message=\"Running late. Wait for me.\"\r\n",
        "print(\"The message is: \", message)\r\n",
        "\r\n",
        "#Change it into a number\r\n",
        "m=int.from_bytes(message.encode('utf-8'),\"big\")\r\n",
        "\r\n",
        "#Encrypt message\r\n",
        "c=pow(m,e,n)\r\n",
        "print(\"c= \",c) #Ciphertext message"
      ],
      "execution_count": null,
      "outputs": [
        {
          "output_type": "stream",
          "text": [
            "The message is:  Running late. Wait for me.\n",
            "c=  5628730804056595371855684110576266781276706571005479901402626056646581913671537162886477174980769106939051646161443333500500835847610834908579566064478525\n"
          ],
          "name": "stdout"
        }
      ]
    },
    {
      "cell_type": "code",
      "metadata": {
        "colab": {
          "base_uri": "https://localhost:8080/"
        },
        "id": "O9XE9igDVoTF",
        "outputId": "1492f165-107c-45bf-f1d7-1b3fb5244bb0"
      },
      "source": [
        "#Part 3: Decrypting friend's message\r\n",
        "c=9029727923340384868426518880554167882611943065703927838617521515742066859974885947494642963883568408240430125599636824996577080116022919050269017033777667\r\n",
        "\r\n",
        "m3=pow(c,d,n)\r\n",
        "m3_bytes=m3.to_bytes((m3.bit_length()+7)//8, 'big')\r\n",
        "\r\n",
        "#Decoding the string\r\n",
        "message3=m3_bytes.decode()\r\n",
        "print(\"The decoded message is: \", message3)\r\n"
      ],
      "execution_count": null,
      "outputs": [
        {
          "output_type": "stream",
          "text": [
            "The decoded message is:  Congrats! You just decrypted your first message!\n"
          ],
          "name": "stdout"
        }
      ]
    },
    {
      "cell_type": "code",
      "metadata": {
        "colab": {
          "base_uri": "https://localhost:8080/"
        },
        "id": "_xwPyR4nYwXB",
        "outputId": "015e76ae-f49f-4115-b5d8-f635bc6fc24c"
      },
      "source": [
        "# Part 4: Sign a Message\r\n",
        "\r\n",
        "m4 = hashlib.sha256(message3.encode()).hexdigest()\r\n",
        "\r\n",
        "m_hash=int.from_bytes(m4.encode('utf-8'),\"big\")\r\n",
        "\r\n",
        "S = pow(m_hash, d, n)\r\n",
        "print(\"The hashed message is %s. The signature is %s\" % (m4,S))"
      ],
      "execution_count": null,
      "outputs": [
        {
          "output_type": "stream",
          "text": [
            "The hashed message is c98b86cf748ca732199bbafb5bca1ac2db34416b198bf3906c6cf3bb19e2c015. The signature is 3141272798217254437841732019283821297853765608850884890749159341487650279071377864998607585732045317788354363036712706102305523253064683707241033589893839\n"
          ],
          "name": "stdout"
        }
      ]
    },
    {
      "cell_type": "code",
      "metadata": {
        "colab": {
          "base_uri": "https://localhost:8080/"
        },
        "id": "MlWyPcvBZJ6G",
        "outputId": "1d5efda9-9b4f-4179-fd11-859005729bb5"
      },
      "source": [
        "# Part 5: Verify a Signature\r\n",
        "\r\n",
        "m_hash = pow(S, e, n)\r\n",
        "print(\"The verified message is %s. The hashed message was %s\" % (m_hash,m4))"
      ],
      "execution_count": null,
      "outputs": [
        {
          "output_type": "stream",
          "text": [
            "The verified message is 5196757236952167220763533464276920932199772536270749930947313681585064170024490586392502408018385385327118416752669008082891762309836988228207000058605877. The hashed message was c98b86cf748ca732199bbafb5bca1ac2db34416b198bf3906c6cf3bb19e2c015\n"
          ],
          "name": "stdout"
        }
      ]
    },
    {
      "cell_type": "code",
      "metadata": {
        "colab": {
          "base_uri": "https://localhost:8080/"
        },
        "id": "UAdGEd5MhwDu",
        "outputId": "28982931-4ff9-47b6-de2c-50eb9ee16965"
      },
      "source": [
        "#Check if message is valid\r\n",
        "if m_hash==pow(S,e,n):\r\n",
        "  print(\"The signature is valid\")\r\n",
        "else:\r\n",
        "  print(\"The signature is invalid\")"
      ],
      "execution_count": null,
      "outputs": [
        {
          "output_type": "stream",
          "text": [
            "The signature is valid\n"
          ],
          "name": "stdout"
        }
      ]
    }
  ]
}